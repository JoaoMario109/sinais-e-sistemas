{
 "cells": [
  {
   "attachments": {},
   "cell_type": "markdown",
   "metadata": {},
   "source": [
    "### Trabalho: Séries de Fourier\n",
    "\n",
    "<hr/>\n",
    "Aluno: João Mário Carnieletto Izoton Lago\n",
    "<br/>\n",
    "Curso: Engenharia Eletronica 2023.1\n",
    "<br/>\n",
    "Sinais e Sistemas\n",
    "<hr/>\n",
    "\n",
    "#### Sobre o código\n",
    "\n",
    "O código completo pode ser encontrado no link:\n",
    "[https://github.com/JoaoMario109/sinais-e-sistemas](https://github.com/JoaoMario109/sinais-e-sistemas)\n",
    "Recomenda-se que se clone / baixe o repositório acima na sua máquina para execução deste, bem como que se instale previamente python e as bibliotecas requeridas numpy, control, matplotlib, scipy. Caso esses passos não sejam atendidos, podem ocorrer erros durante a execução bem como um comportamento não esperado do código."
   ]
  },
  {
   "attachments": {},
   "cell_type": "markdown",
   "metadata": {},
   "source": [
    "### Análise de requisítos\n",
    "\n",
    "Requisitos do trabalho:\n",
    "* Dado 2 sinais, deve-se realizar a decomposição desses sinais utilizando a série de Fourier\n",
    "* Com as séries obitidas deve-se fazer um código capaz de:\n",
    "  * Visualizar o sinal original bem como a sua versão reconstruida a partir dos coeficientes da série\n",
    "  * Permitir que o usuário especifique a quantidade de coeficientes utilizado na série\n",
    "  * Apresentar o gráfico de magnitude e fase da série para ambos os sinais\n",
    "\n",
    "Objetivos:\n",
    "* Confirmar como a simetria do sinal afeta os coeficientes da série;\n",
    "* Observar a conexão entre o período fundamental e a distribuição das componentes no eixo de frequência;\n",
    "* Examinar o erro resultante da aproximação por Série de Fourier devido às descontinuidades do sinal.\n",
    "\n",
    "Sistemas escolhidos com base no PDF de requisítos do trabalho:\n",
    "\n",
    "#### Primeiro\n",
    "\n",
    "$$\n",
    "f_{square}(x) = \\sum_{k = -\\infty}^{\\infty}\n",
    "\t\\begin{cases}\n",
    "\t\t\\text{1,} &\\quad\\text{if }(10k\\pi - \\pi)\\le\\text{x}\\le(10k\\pi + \\pi) \\\\\n",
    "\t\t\\text{0,} &\\quad\\text{else} \\\\\n",
    "\t\\end{cases}\n",
    "$$\n",
    "\n",
    "#### Segundo\n",
    "\n",
    "$$\n",
    "f_{saw}(x) = \\sum_{k = -\\infty}^{\\infty}\n",
    "\t\\begin{cases}\n",
    "\t\t\\frac{4x}{\\pi}-4k\\text{,} &\\quad\\text{if }(k\\pi - \\frac{\\pi}{4})\\le\\text{x}\\le(k\\pi + \\frac{\\pi}{4}) \\\\\n",
    "\t\t\\text{0,} &\\quad\\text{else} \\\\\n",
    "\t\\end{cases}\n",
    "$$"
   ]
  },
  {
   "attachments": {},
   "cell_type": "markdown",
   "metadata": {},
   "source": [
    "### Desenvolvimento do código"
   ]
  },
  {
   "cell_type": "code",
   "execution_count": null,
   "metadata": {},
   "outputs": [],
   "source": [
    "# Packages install\n",
    "%pip install -q numpy control matplotlib scipy"
   ]
  },
  {
   "cell_type": "code",
   "execution_count": null,
   "metadata": {},
   "outputs": [],
   "source": [
    "# OS\n",
    "import os\n",
    "# Análise numérica\n",
    "import numpy as np\n",
    "import control\n",
    "# Plots\n",
    "import matplotlib.pyplot as plt\n",
    "# Tipagem\n",
    "from typing import List, Tuple"
   ]
  },
  {
   "attachments": {},
   "cell_type": "markdown",
   "metadata": {},
   "source": [
    "# Definição de algumas funções de utilidade geral\n",
    "\n",
    "# Encontra o ponto central dentre um conjunto de pontos\n",
    "def get_middle_point(points: List[ complex ]) -> Tuple[ float, float ]:\n",
    "\tlatitudes = np.real(points)\n",
    "\tlongitudes = np.imag(points)\n",
    "\treturn [ sum(latitudes) / len(latitudes), sum(longitudes) / len(longitudes) ]\n",
    "\n",
    "# Garante que o repositório de saída exista\n",
    "if not os.path.isdir(\"./assets/outputs\"):\n",
    "\tos.makedirs(\"./assets/outputs\")"
   ]
  },
  {
   "attachments": {},
   "cell_type": "markdown",
   "metadata": {},
   "source": [
    "### "
   ]
  }
 ],
 "metadata": {
  "language_info": {
   "name": "python"
  },
  "orig_nbformat": 4
 },
 "nbformat": 4,
 "nbformat_minor": 2
}
